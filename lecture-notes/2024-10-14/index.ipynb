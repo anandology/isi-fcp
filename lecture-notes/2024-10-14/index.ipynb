{
 "cells": [
  {
   "attachments": {},
   "cell_type": "markdown",
   "id": "5ffda4ba-2809-480f-9730-b5a3ec22be57",
   "metadata": {},
   "source": [
    "# Introduction to Python (Mon Oct 14, 2024)"
   ]
  },
  {
   "cell_type": "markdown",
   "id": "71ae741b-f4dd-472b-b76c-7a25b8409eb5",
   "metadata": {},
   "source": [
    "Type an expression and press `Shift + Enter` to execute the cell."
   ]
  },
  {
   "cell_type": "code",
   "execution_count": 2,
   "id": "7bf073d3-a919-41ad-98a5-bbb07292194a",
   "metadata": {},
   "outputs": [
    {
     "data": {
      "text/plain": [
       "3"
      ]
     },
     "execution_count": 2,
     "metadata": {},
     "output_type": "execute_result"
    }
   ],
   "source": [
    "1 + 2"
   ]
  },
  {
   "cell_type": "markdown",
   "id": "3bb499a0-3f28-41d0-ba3f-11bdb6226b8f",
   "metadata": {},
   "source": [
    "## A Taste of Python"
   ]
  },
  {
   "cell_type": "markdown",
   "id": "0f4d9471-6eb3-49ed-a994-1acf9335f421",
   "metadata": {},
   "source": [
    "Python is a very simple language, yet very powerful."
   ]
  },
  {
   "cell_type": "markdown",
   "id": "eb8a27b3-ecbd-40c5-a55c-7ee24deac327",
   "metadata": {},
   "source": [
    "### Python is simple"
   ]
  },
  {
   "cell_type": "code",
   "execution_count": 3,
   "id": "c5dd210c-5417-4d56-9d99-202e1a713aff",
   "metadata": {},
   "outputs": [
    {
     "name": "stdout",
     "output_type": "stream",
     "text": [
      "hello, wolrd!\n"
     ]
    }
   ],
   "source": [
    "print(\"hello, wolrd!\")"
   ]
  },
  {
   "cell_type": "code",
   "execution_count": 4,
   "id": "e851257f-dd4c-419c-8fbf-f8ad5b5fefb7",
   "metadata": {},
   "outputs": [
    {
     "data": {
      "text/plain": [
       "3"
      ]
     },
     "execution_count": 4,
     "metadata": {},
     "output_type": "execute_result"
    }
   ],
   "source": [
    "1 + 2"
   ]
  },
  {
   "cell_type": "markdown",
   "id": "c96faeab-7251-491b-9e2b-6816588d811d",
   "metadata": {},
   "source": [
    "### Python is dynamically typed"
   ]
  },
  {
   "cell_type": "code",
   "execution_count": 5,
   "id": "a6159e57-f138-4330-ba50-48a4b92cabd1",
   "metadata": {},
   "outputs": [
    {
     "data": {
      "text/plain": [
       "3"
      ]
     },
     "execution_count": 5,
     "metadata": {},
     "output_type": "execute_result"
    }
   ],
   "source": [
    "x = 1\n",
    "y = 2\n",
    "x + y"
   ]
  },
  {
   "cell_type": "code",
   "execution_count": 6,
   "id": "1f3472d2-5894-49e2-bc84-ed263f06c47e",
   "metadata": {},
   "outputs": [
    {
     "name": "stdout",
     "output_type": "stream",
     "text": [
      "1\n",
      "hello\n"
     ]
    }
   ],
   "source": [
    "x = 1\n",
    "print(x)\n",
    "\n",
    "x = \"hello\"\n",
    "print(x)"
   ]
  },
  {
   "cell_type": "markdown",
   "id": "03238572-9077-4649-9103-f1fa35812319",
   "metadata": {},
   "source": [
    "While variables do not have types associated with them, the values do have types and Python is very strict about them."
   ]
  },
  {
   "cell_type": "code",
   "execution_count": 7,
   "id": "9336a74e-f499-4bbf-8eef-bb310b90b79c",
   "metadata": {},
   "outputs": [
    {
     "ename": "TypeError",
     "evalue": "unsupported operand type(s) for +: 'int' and 'str'",
     "output_type": "error",
     "traceback": [
      "\u001b[0;31m---------------------------------------------------------------------------\u001b[0m",
      "\u001b[0;31mTypeError\u001b[0m                                 Traceback (most recent call last)",
      "Cell \u001b[0;32mIn[7], line 1\u001b[0m\n\u001b[0;32m----> 1\u001b[0m \u001b[38;5;241;43m1\u001b[39;49m\u001b[43m \u001b[49m\u001b[38;5;241;43m+\u001b[39;49m\u001b[43m \u001b[49m\u001b[38;5;124;43m\"\u001b[39;49m\u001b[38;5;124;43m2\u001b[39;49m\u001b[38;5;124;43m\"\u001b[39;49m\n",
      "\u001b[0;31mTypeError\u001b[0m: unsupported operand type(s) for +: 'int' and 'str'"
     ]
    }
   ],
   "source": [
    "1 + \"2\""
   ]
  },
  {
   "cell_type": "markdown",
   "id": "2b8de679-2e07-4275-98b0-71bd1a83aec7",
   "metadata": {},
   "source": [
    "### Python uses indentation"
   ]
  },
  {
   "cell_type": "code",
   "execution_count": 8,
   "id": "f99ef6ae-574b-40c9-95be-95c73698c301",
   "metadata": {},
   "outputs": [
    {
     "ename": "IndentationError",
     "evalue": "unexpected indent (2079380222.py, line 4)",
     "output_type": "error",
     "traceback": [
      "\u001b[0;36m  Cell \u001b[0;32mIn[8], line 4\u001b[0;36m\u001b[0m\n\u001b[0;31m    y = 2\u001b[0m\n\u001b[0m    ^\u001b[0m\n\u001b[0;31mIndentationError\u001b[0m\u001b[0;31m:\u001b[0m unexpected indent\n"
     ]
    }
   ],
   "source": [
    "# invalid python program\n",
    "\n",
    "x = 1\n",
    "  y = 2\n",
    "x + y"
   ]
  },
  {
   "cell_type": "code",
   "execution_count": 10,
   "id": "8133d516-eb08-4c48-9955-61877782b84f",
   "metadata": {},
   "outputs": [
    {
     "name": "stdout",
     "output_type": "stream",
     "text": [
      "pass\n"
     ]
    }
   ],
   "source": [
    "marks = 50\n",
    "\n",
    "if marks > 35:\n",
    "    print(\"pass\")\n",
    "else:\n",
    "    print(\"fail\")"
   ]
  },
  {
   "cell_type": "markdown",
   "id": "14d21325-6476-4f9b-a44c-423ec9606cc3",
   "metadata": {},
   "source": [
    "Another example:"
   ]
  },
  {
   "cell_type": "code",
   "execution_count": 11,
   "id": "3aad9b1c-8023-4fba-b99e-645229c2cee2",
   "metadata": {},
   "outputs": [
    {
     "name": "stdout",
     "output_type": "stream",
     "text": [
      "1\n",
      "2\n",
      "3\n",
      "4\n",
      "done\n"
     ]
    }
   ],
   "source": [
    "numbers = [1, 2, 3, 4]\n",
    "\n",
    "for n in numbers:\n",
    "    print(n)\n",
    "print(\"done\")"
   ]
  },
  {
   "cell_type": "markdown",
   "id": "0116a572-da23-4f6b-92d7-a9b931e8f439",
   "metadata": {},
   "source": [
    "### Python is Expressive"
   ]
  },
  {
   "cell_type": "markdown",
   "id": "25f0ba5b-762d-45fb-a389-28d932c4863b",
   "metadata": {},
   "source": [
    "Sum of square of all even numbers below one million."
   ]
  },
  {
   "cell_type": "code",
   "execution_count": 12,
   "id": "1b7f0cb0-9011-4998-9470-97ea5f6cbb4d",
   "metadata": {},
   "outputs": [
    {
     "data": {
      "text/plain": [
       "166666166667000000"
      ]
     },
     "execution_count": 12,
     "metadata": {},
     "output_type": "execute_result"
    }
   ],
   "source": [
    "sum([n*n for n in range(1000000) if n%2 == 0])"
   ]
  },
  {
   "cell_type": "code",
   "execution_count": 13,
   "id": "09ae5d8d-1aab-4b2e-b1db-048478f97ee9",
   "metadata": {},
   "outputs": [
    {
     "name": "stdout",
     "output_type": "stream",
     "text": [
      "A\n",
      "AA\n",
      "AAA\n",
      "AA's\n",
      "AB\n",
      "ABC\n",
      "ABC's\n",
      "ABCs\n",
      "ABM\n",
      "ABM's\n"
     ]
    }
   ],
   "source": [
    "!head /usr/share/dict/words"
   ]
  },
  {
   "cell_type": "code",
   "execution_count": 14,
   "id": "aa126277-4ece-419d-b2dc-b6f7fb754858",
   "metadata": {},
   "outputs": [
    {
     "name": "stdout",
     "output_type": "stream",
     "text": [
      "104334 /usr/share/dict/words\n"
     ]
    }
   ],
   "source": [
    "!wc -l /usr/share/dict/words"
   ]
  },
  {
   "cell_type": "markdown",
   "id": "571952a6-8edd-4178-a9dc-2948d6025ab6",
   "metadata": {},
   "source": [
    "Can you find the largest word in the dictionary?"
   ]
  },
  {
   "cell_type": "code",
   "execution_count": 15,
   "id": "af7979d3-5c42-428a-9e42-3bbfd78a0bc6",
   "metadata": {},
   "outputs": [
    {
     "data": {
      "text/plain": [
       "8"
      ]
     },
     "execution_count": 15,
     "metadata": {},
     "output_type": "execute_result"
    }
   ],
   "source": [
    "max([3, 4, 5, 8, 2])"
   ]
  },
  {
   "cell_type": "code",
   "execution_count": 16,
   "id": "0e65ed29-488c-4ea4-ad63-871f43c6b0eb",
   "metadata": {},
   "outputs": [
    {
     "data": {
      "text/plain": [
       "'two'"
      ]
     },
     "execution_count": 16,
     "metadata": {},
     "output_type": "execute_result"
    }
   ],
   "source": [
    "max([\"one\", \"two\", \"three\", \"four\", \"five\"])"
   ]
  },
  {
   "cell_type": "code",
   "execution_count": 17,
   "id": "be08e3b1-dae1-4581-b656-ecefe29c2ce1",
   "metadata": {},
   "outputs": [
    {
     "data": {
      "text/plain": [
       "'three'"
      ]
     },
     "execution_count": 17,
     "metadata": {},
     "output_type": "execute_result"
    }
   ],
   "source": [
    "max([\"one\", \"two\", \"three\", \"four\", \"five\"], key=len)"
   ]
  },
  {
   "cell_type": "code",
   "execution_count": 18,
   "id": "f19715e2-ce18-4a75-bf9d-9c6302c9a35c",
   "metadata": {},
   "outputs": [
    {
     "data": {
      "text/plain": [
       "\"electroencephalograph's\\n\""
      ]
     },
     "execution_count": 18,
     "metadata": {},
     "output_type": "execute_result"
    }
   ],
   "source": [
    "max(open(\"/usr/share/dict/words\"), key=len)"
   ]
  },
  {
   "cell_type": "markdown",
   "id": "cefb0ad8-3597-4c1f-b9de-82fec7aa0844",
   "metadata": {},
   "source": [
    "How to find the top 5 words?"
   ]
  },
  {
   "cell_type": "code",
   "execution_count": 19,
   "id": "145c49d5-11d9-45e1-b1ef-3bed4126d16b",
   "metadata": {},
   "outputs": [
    {
     "data": {
      "text/plain": [
       "['counterrevolutionaries\\n',\n",
       " \"counterrevolutionary's\\n\",\n",
       " \"electroencephalogram's\\n\",\n",
       " 'electroencephalographs\\n',\n",
       " \"electroencephalograph's\\n\"]"
      ]
     },
     "execution_count": 19,
     "metadata": {},
     "output_type": "execute_result"
    }
   ],
   "source": [
    "sorted(open(\"/usr/share/dict/words\"), key=len)[-5:]"
   ]
  },
  {
   "cell_type": "markdown",
   "id": "4cdb636f-8aa1-48ba-b416-282358370ebc",
   "metadata": {},
   "source": [
    "### Python is Productive"
   ]
  },
  {
   "cell_type": "markdown",
   "id": "609aee2c-0f60-4a9f-b567-2a3831029110",
   "metadata": {},
   "source": [
    "This requires a library called requests. You can install it by running:"
   ]
  },
  {
   "cell_type": "code",
   "execution_count": 22,
   "id": "d16722d7-ca71-460c-8f6a-089e4621d14e",
   "metadata": {},
   "outputs": [
    {
     "name": "stdout",
     "output_type": "stream",
     "text": [
      "Requirement already satisfied: requests in /home/anand/.rye/py/cpython@3.12.3/lib/python3.12/site-packages (2.32.3)\n",
      "Requirement already satisfied: charset-normalizer<4,>=2 in /home/anand/.rye/py/cpython@3.12.3/lib/python3.12/site-packages (from requests) (3.3.2)\n",
      "Requirement already satisfied: idna<4,>=2.5 in /home/anand/.rye/py/cpython@3.12.3/lib/python3.12/site-packages (from requests) (3.7)\n",
      "Requirement already satisfied: urllib3<3,>=1.21.1 in /home/anand/.rye/py/cpython@3.12.3/lib/python3.12/site-packages (from requests) (2.2.2)\n",
      "Requirement already satisfied: certifi>=2017.4.17 in /home/anand/.rye/py/cpython@3.12.3/lib/python3.12/site-packages (from requests) (2024.7.4)\n"
     ]
    }
   ],
   "source": [
    "!python -m pip install requests"
   ]
  },
  {
   "cell_type": "code",
   "execution_count": 23,
   "id": "c7b43839-d258-49e4-b0c2-bb5f5c31e095",
   "metadata": {},
   "outputs": [],
   "source": [
    "import requests\n",
    "\n",
    "url = \"https://api.github.com/search/repositories\"\n",
    "params = {\n",
    "    \"q\": \"ISI Bangalore\"\n",
    "}\n",
    "data = requests.get(url, params=params).json()"
   ]
  },
  {
   "cell_type": "code",
   "execution_count": 24,
   "id": "99ecfe6e-c8c8-4b87-a524-21ad8644d6dd",
   "metadata": {},
   "outputs": [
    {
     "data": {
      "text/plain": [
       "dict_keys(['total_count', 'incomplete_results', 'items'])"
      ]
     },
     "execution_count": 24,
     "metadata": {},
     "output_type": "execute_result"
    }
   ],
   "source": [
    "data.keys()"
   ]
  },
  {
   "cell_type": "code",
   "execution_count": 25,
   "id": "e2e2a808-17ae-4824-9c5c-951d3772dcd7",
   "metadata": {},
   "outputs": [
    {
     "data": {
      "text/plain": [
       "4"
      ]
     },
     "execution_count": 25,
     "metadata": {},
     "output_type": "execute_result"
    }
   ],
   "source": [
    "data['total_count']"
   ]
  },
  {
   "cell_type": "code",
   "execution_count": 26,
   "id": "933b5738-3402-429a-b2d0-a3438097f55f",
   "metadata": {},
   "outputs": [
    {
     "data": {
      "text/plain": [
       "{'id': 832589430,\n",
       " 'node_id': 'R_kgDOMaBOdg',\n",
       " 'name': 'isi-fcp',\n",
       " 'full_name': 'anandology/isi-fcp',\n",
       " 'private': False,\n",
       " 'owner': {'login': 'anandology',\n",
       "  'id': 7569,\n",
       "  'node_id': 'MDQ6VXNlcjc1Njk=',\n",
       "  'avatar_url': 'https://avatars.githubusercontent.com/u/7569?v=4',\n",
       "  'gravatar_id': '',\n",
       "  'url': 'https://api.github.com/users/anandology',\n",
       "  'html_url': 'https://github.com/anandology',\n",
       "  'followers_url': 'https://api.github.com/users/anandology/followers',\n",
       "  'following_url': 'https://api.github.com/users/anandology/following{/other_user}',\n",
       "  'gists_url': 'https://api.github.com/users/anandology/gists{/gist_id}',\n",
       "  'starred_url': 'https://api.github.com/users/anandology/starred{/owner}{/repo}',\n",
       "  'subscriptions_url': 'https://api.github.com/users/anandology/subscriptions',\n",
       "  'organizations_url': 'https://api.github.com/users/anandology/orgs',\n",
       "  'repos_url': 'https://api.github.com/users/anandology/repos',\n",
       "  'events_url': 'https://api.github.com/users/anandology/events{/privacy}',\n",
       "  'received_events_url': 'https://api.github.com/users/anandology/received_events',\n",
       "  'type': 'User',\n",
       "  'site_admin': False},\n",
       " 'html_url': 'https://github.com/anandology/isi-fcp',\n",
       " 'description': 'Course respository for the Fundamentals of Computing and Programming at ISI Bangalore',\n",
       " 'fork': False,\n",
       " 'url': 'https://api.github.com/repos/anandology/isi-fcp',\n",
       " 'forks_url': 'https://api.github.com/repos/anandology/isi-fcp/forks',\n",
       " 'keys_url': 'https://api.github.com/repos/anandology/isi-fcp/keys{/key_id}',\n",
       " 'collaborators_url': 'https://api.github.com/repos/anandology/isi-fcp/collaborators{/collaborator}',\n",
       " 'teams_url': 'https://api.github.com/repos/anandology/isi-fcp/teams',\n",
       " 'hooks_url': 'https://api.github.com/repos/anandology/isi-fcp/hooks',\n",
       " 'issue_events_url': 'https://api.github.com/repos/anandology/isi-fcp/issues/events{/number}',\n",
       " 'events_url': 'https://api.github.com/repos/anandology/isi-fcp/events',\n",
       " 'assignees_url': 'https://api.github.com/repos/anandology/isi-fcp/assignees{/user}',\n",
       " 'branches_url': 'https://api.github.com/repos/anandology/isi-fcp/branches{/branch}',\n",
       " 'tags_url': 'https://api.github.com/repos/anandology/isi-fcp/tags',\n",
       " 'blobs_url': 'https://api.github.com/repos/anandology/isi-fcp/git/blobs{/sha}',\n",
       " 'git_tags_url': 'https://api.github.com/repos/anandology/isi-fcp/git/tags{/sha}',\n",
       " 'git_refs_url': 'https://api.github.com/repos/anandology/isi-fcp/git/refs{/sha}',\n",
       " 'trees_url': 'https://api.github.com/repos/anandology/isi-fcp/git/trees{/sha}',\n",
       " 'statuses_url': 'https://api.github.com/repos/anandology/isi-fcp/statuses/{sha}',\n",
       " 'languages_url': 'https://api.github.com/repos/anandology/isi-fcp/languages',\n",
       " 'stargazers_url': 'https://api.github.com/repos/anandology/isi-fcp/stargazers',\n",
       " 'contributors_url': 'https://api.github.com/repos/anandology/isi-fcp/contributors',\n",
       " 'subscribers_url': 'https://api.github.com/repos/anandology/isi-fcp/subscribers',\n",
       " 'subscription_url': 'https://api.github.com/repos/anandology/isi-fcp/subscription',\n",
       " 'commits_url': 'https://api.github.com/repos/anandology/isi-fcp/commits{/sha}',\n",
       " 'git_commits_url': 'https://api.github.com/repos/anandology/isi-fcp/git/commits{/sha}',\n",
       " 'comments_url': 'https://api.github.com/repos/anandology/isi-fcp/comments{/number}',\n",
       " 'issue_comment_url': 'https://api.github.com/repos/anandology/isi-fcp/issues/comments{/number}',\n",
       " 'contents_url': 'https://api.github.com/repos/anandology/isi-fcp/contents/{+path}',\n",
       " 'compare_url': 'https://api.github.com/repos/anandology/isi-fcp/compare/{base}...{head}',\n",
       " 'merges_url': 'https://api.github.com/repos/anandology/isi-fcp/merges',\n",
       " 'archive_url': 'https://api.github.com/repos/anandology/isi-fcp/{archive_format}{/ref}',\n",
       " 'downloads_url': 'https://api.github.com/repos/anandology/isi-fcp/downloads',\n",
       " 'issues_url': 'https://api.github.com/repos/anandology/isi-fcp/issues{/number}',\n",
       " 'pulls_url': 'https://api.github.com/repos/anandology/isi-fcp/pulls{/number}',\n",
       " 'milestones_url': 'https://api.github.com/repos/anandology/isi-fcp/milestones{/number}',\n",
       " 'notifications_url': 'https://api.github.com/repos/anandology/isi-fcp/notifications{?since,all,participating}',\n",
       " 'labels_url': 'https://api.github.com/repos/anandology/isi-fcp/labels{/name}',\n",
       " 'releases_url': 'https://api.github.com/repos/anandology/isi-fcp/releases{/id}',\n",
       " 'deployments_url': 'https://api.github.com/repos/anandology/isi-fcp/deployments',\n",
       " 'created_at': '2024-07-23T10:25:25Z',\n",
       " 'updated_at': '2024-10-13T18:59:50Z',\n",
       " 'pushed_at': '2024-10-13T19:00:21Z',\n",
       " 'git_url': 'git://github.com/anandology/isi-fcp.git',\n",
       " 'ssh_url': 'git@github.com:anandology/isi-fcp.git',\n",
       " 'clone_url': 'https://github.com/anandology/isi-fcp.git',\n",
       " 'svn_url': 'https://github.com/anandology/isi-fcp',\n",
       " 'homepage': 'https://anandology.github.io/isi-fcp/',\n",
       " 'size': 2867,\n",
       " 'stargazers_count': 6,\n",
       " 'watchers_count': 6,\n",
       " 'language': 'C',\n",
       " 'has_issues': True,\n",
       " 'has_projects': True,\n",
       " 'has_downloads': True,\n",
       " 'has_wiki': True,\n",
       " 'has_pages': True,\n",
       " 'has_discussions': True,\n",
       " 'forks_count': 0,\n",
       " 'mirror_url': None,\n",
       " 'archived': False,\n",
       " 'disabled': False,\n",
       " 'open_issues_count': 0,\n",
       " 'license': None,\n",
       " 'allow_forking': True,\n",
       " 'is_template': False,\n",
       " 'web_commit_signoff_required': False,\n",
       " 'topics': [],\n",
       " 'visibility': 'public',\n",
       " 'forks': 0,\n",
       " 'open_issues': 0,\n",
       " 'watchers': 6,\n",
       " 'default_branch': 'main',\n",
       " 'score': 1.0}"
      ]
     },
     "execution_count": 26,
     "metadata": {},
     "output_type": "execute_result"
    }
   ],
   "source": [
    "data['items'][0]"
   ]
  },
  {
   "cell_type": "code",
   "execution_count": 27,
   "id": "7b72ed1b-d2d2-4af4-b905-4fa14e7527cc",
   "metadata": {},
   "outputs": [
    {
     "data": {
      "text/plain": [
       "'anandology/isi-fcp'"
      ]
     },
     "execution_count": 27,
     "metadata": {},
     "output_type": "execute_result"
    }
   ],
   "source": [
    "data['items'][0]['full_name']"
   ]
  },
  {
   "cell_type": "code",
   "execution_count": 28,
   "id": "381b312a-16b0-4534-9470-67d4cd02a882",
   "metadata": {},
   "outputs": [
    {
     "name": "stdout",
     "output_type": "stream",
     "text": [
      "anandology/isi-fcp\n",
      "isibangculturalcommittee/isibangculturalcommittee.github.io\n",
      "MathClubISIB/mathclubisib.github.io\n",
      "sudiptarakshit/ML-Modules-ISI\n"
     ]
    }
   ],
   "source": [
    "for repo in data['items']:\n",
    "    print(repo['full_name'])"
   ]
  },
  {
   "cell_type": "markdown",
   "id": "11b157df-2c11-4c6f-a5e7-109dcd07a1bc",
   "metadata": {},
   "source": [
    "Let's put all of this together."
   ]
  },
  {
   "cell_type": "code",
   "execution_count": 30,
   "id": "01e6efb7-8b75-4d69-9e89-14d12a83915e",
   "metadata": {},
   "outputs": [
    {
     "name": "stdout",
     "output_type": "stream",
     "text": [
      "cduck/hyperbolic\n",
      "evfro/HyperbolicRecommenders\n",
      "Eloind/Hyperbolic-Geometry\n",
      "yankai-chen/LKGR\n",
      "tjweisman/geometry_tools\n",
      "Labardini/Hyperbolic-GeometPy\n",
      "mountain/hyperbolic-wythoff\n",
      "ya-wei-eileen-lin/HyperbolicDiffusionDistance\n",
      "nunukim/explore_hyperbolic_geometry\n",
      "nbubis/Poincare\n",
      "trevorBajkowski/hyperbolicPoincareDiskGeometry\n",
      "TinfoilHat0/Hyperbolic-Generator\n",
      "hdbray/hyperbolic_geometry\n",
      "calwoo/hyperbolic\n",
      "JWKennington/pyperbolic\n",
      "stla/PyMobiusHyperbolic\n",
      "MonkeyUnderMountain/PopularizeGeometry\n",
      "asahidari/gyrovector_hyperbolic_b3d\n",
      "DRWardrope/TFGeoTests\n",
      "drewitz/VIPer\n",
      "zbovaird/UHG-Library\n",
      "LuckyGirl-XU/STGN\n",
      "Rajwrita/Poincare-Embeddings\n",
      "AnoushkaVyas/HyperCode\n",
      "BStandage/CuttingSequence\n",
      "mountain/sunspot\n"
     ]
    }
   ],
   "source": [
    "import requests\n",
    "\n",
    "url = \"https://api.github.com/search/repositories\"\n",
    "params = {\n",
    "    \"q\": \"hyperbolic geometry language:python\"\n",
    "}\n",
    "data = requests.get(url, params=params).json()\n",
    "\n",
    "for repo in data['items']:\n",
    "    print(repo['full_name'])"
   ]
  },
  {
   "cell_type": "code",
   "execution_count": 32,
   "id": "088a07f3-83a2-47a0-9a89-204abc2b6fe6",
   "metadata": {},
   "outputs": [
    {
     "data": {
      "text/plain": [
       "{'amount': 1.0, 'base': 'USD', 'date': '2024-10-11', 'rates': {'INR': 84.07}}"
      ]
     },
     "execution_count": 32,
     "metadata": {},
     "output_type": "execute_result"
    }
   ],
   "source": [
    "\n",
    "url = \"https://api.frankfurter.app/latest\"\n",
    "params = {\"base\": \"USD\", \"symbols\": \"INR\"}\n",
    "\n",
    "requests.get(url, params=params).json()"
   ]
  },
  {
   "cell_type": "code",
   "execution_count": 33,
   "id": "ec2851f0-4d70-44a3-84bf-c9ecc379d94c",
   "metadata": {},
   "outputs": [
    {
     "data": {
      "text/plain": [
       "84.07"
      ]
     },
     "execution_count": 33,
     "metadata": {},
     "output_type": "execute_result"
    }
   ],
   "source": [
    "data = requests.get(url, params=params).json()\n",
    "data['rates']['INR']"
   ]
  },
  {
   "cell_type": "markdown",
   "id": "469bd512-577d-48a5-a5c1-d039b44bdde2",
   "metadata": {},
   "source": [
    "# Rose Curves"
   ]
  },
  {
   "cell_type": "markdown",
   "id": "695c5675-b733-404f-9e71-348d1ac2cae2",
   "metadata": {},
   "source": [
    "https://en.wikipedia.org/wiki/Rose_(mathematics)"
   ]
  },
  {
   "cell_type": "markdown",
   "id": "55965da6-8a49-4418-a629-30518768f0ef",
   "metadata": {},
   "source": [
    "A rose is the set of points in polar coordinates specified by the polar equation\n",
    "\n",
    "$r=a\\cos(k\\theta )$\n",
    "\n",
    "or in Cartesian coordinates using the parametric equations\n",
    "\n",
    "$$\n",
    "\\displaystyle {\\begin{aligned}x&=r\\cos(\\theta )=a\\cos(k\\theta )\\cos(\\theta )\\\\y&=r\\sin(\\theta )=a\\cos(k\\theta )\\sin(\\theta )\\end{aligned}}\n",
    "$$  \n",
    "    "
   ]
  },
  {
   "cell_type": "markdown",
   "id": "aa1d40f4-aa43-4a7c-8d00-c6ecc6b34b4c",
   "metadata": {},
   "source": [
    "We need numpy and matplotlib. You can install them by running:"
   ]
  },
  {
   "cell_type": "code",
   "execution_count": null,
   "id": "fc063281-2e74-4b9b-9190-f16fad182667",
   "metadata": {},
   "outputs": [],
   "source": [
    "!python -m pip install numpy matplotlib"
   ]
  },
  {
   "cell_type": "code",
   "execution_count": 34,
   "id": "ce18377c-a3a1-4182-a114-df1d72e7430d",
   "metadata": {},
   "outputs": [],
   "source": [
    "import numpy as np\n",
    "import matplotlib.pyplot as plt"
   ]
  },
  {
   "cell_type": "code",
   "execution_count": 42,
   "id": "b69a9669-cae3-4a1f-bee4-69978fa10301",
   "metadata": {},
   "outputs": [],
   "source": [
    "x = np.arange(-10, 10)"
   ]
  },
  {
   "cell_type": "code",
   "execution_count": 43,
   "id": "acc20ca4-f282-4314-a079-6153c904c205",
   "metadata": {},
   "outputs": [
    {
     "data": {
      "text/plain": [
       "array([-10,  -9,  -8,  -7,  -6,  -5,  -4,  -3,  -2,  -1,   0,   1,   2,\n",
       "         3,   4,   5,   6,   7,   8,   9])"
      ]
     },
     "execution_count": 43,
     "metadata": {},
     "output_type": "execute_result"
    }
   ],
   "source": [
    "x"
   ]
  },
  {
   "cell_type": "code",
   "execution_count": 44,
   "id": "b411f3ec-e311-4ae1-9afb-57cc67d4c7fc",
   "metadata": {},
   "outputs": [],
   "source": [
    "y = x*x"
   ]
  },
  {
   "cell_type": "code",
   "execution_count": 45,
   "id": "7da5cb8b-edb3-42b3-80e4-5f2c26bc0b96",
   "metadata": {},
   "outputs": [
    {
     "data": {
      "text/plain": [
       "array([100,  81,  64,  49,  36,  25,  16,   9,   4,   1,   0,   1,   4,\n",
       "         9,  16,  25,  36,  49,  64,  81])"
      ]
     },
     "execution_count": 45,
     "metadata": {},
     "output_type": "execute_result"
    }
   ],
   "source": [
    "y"
   ]
  },
  {
   "cell_type": "code",
   "execution_count": 46,
   "id": "f398aa6e-c09d-419f-b352-641922a042dd",
   "metadata": {},
   "outputs": [
    {
     "data": {
      "image/png": "[encoded data removed]",
      "text/plain": [
       "<Figure size 640x480 with 1 Axes>"
      ]
     },
     "metadata": {},
     "output_type": "display_data"
    }
   ],
   "source": [
    "plt.plot(x, y)\n",
    "plt.grid()"
   ]
  },
  {
   "cell_type": "markdown",
   "id": "c46e3da7-2fdb-48e5-b27b-d318a187ca6d",
   "metadata": {},
   "source": [
    "### Ploting a circle"
   ]
  },
  {
   "cell_type": "code",
   "execution_count": 47,
   "id": "98ca6c89-0c4f-4b68-a85e-467e89f8f26d",
   "metadata": {},
   "outputs": [],
   "source": [
    "angles = np.linspace(0, 2*np.pi, 100)"
   ]
  },
  {
   "cell_type": "code",
   "execution_count": 49,
   "id": "f3d226e4-a167-436f-b618-af3b06db36a7",
   "metadata": {},
   "outputs": [
    {
     "data": {
      "text/plain": [
       "array([ 1.  ,  3.25,  5.5 ,  7.75, 10.  ])"
      ]
     },
     "execution_count": 49,
     "metadata": {},
     "output_type": "execute_result"
    }
   ],
   "source": [
    "np.linspace(1, 10, 5)"
   ]
  },
  {
   "cell_type": "code",
   "execution_count": 50,
   "id": "5fd66477-439b-4838-b524-868ab136a8c2",
   "metadata": {},
   "outputs": [],
   "source": [
    "r = 1"
   ]
  },
  {
   "cell_type": "code",
   "execution_count": 54,
   "id": "24f54654-7252-44c6-babc-60475ccd7c1e",
   "metadata": {},
   "outputs": [],
   "source": [
    "theta = np.linspace(0, 2*np.pi, 100)\n",
    "x = r * np.cos(theta)\n",
    "y = r * np.sin(theta)"
   ]
  },
  {
   "cell_type": "code",
   "execution_count": 55,
   "id": "76e97dd0-65a9-4f88-96cd-922d1ca5c1a2",
   "metadata": {},
   "outputs": [
    {
     "data": {
      "image/png": "[encoded data removed]",
      "text/plain": [
       "<Figure size 400x400 with 1 Axes>"
      ]
     },
     "metadata": {},
     "output_type": "display_data"
    }
   ],
   "source": [
    "plt.figure(figsize=(4, 4))\n",
    "plt.plot(x, y)\n",
    "plt.grid()"
   ]
  },
  {
   "cell_type": "markdown",
   "id": "f5c11c0c-f3be-41a3-a982-79d740b3a417",
   "metadata": {},
   "source": [
    "Now let's try rose curves."
   ]
  },
  {
   "cell_type": "code",
   "execution_count": 60,
   "id": "ad5f9ecd-1ea9-43e9-8a46-646c223b6345",
   "metadata": {},
   "outputs": [
    {
     "data": {
      "image/png": "[encoded data removed]",
      "text/plain": [
       "<Figure size 400x400 with 1 Axes>"
      ]
     },
     "metadata": {},
     "output_type": "display_data"
    }
   ],
   "source": [
    "k = 5\n",
    "a = 1\n",
    "\n",
    "theta = np.linspace(0, 2*np.pi, 1000)\n",
    "r = a * np.cos(k*theta)\n",
    "x = r * np.cos(theta)\n",
    "y = r * np.sin(theta)\n",
    "\n",
    "plt.figure(figsize=(4, 4))\n",
    "plt.plot(x, y)\n",
    "plt.grid()"
   ]
  },
  {
   "cell_type": "markdown",
   "id": "04574509-2d59-4766-85b2-d10a12979915",
   "metadata": {},
   "source": [
    "### Symbolic Computation"
   ]
  },
  {
   "cell_type": "code",
   "execution_count": 62,
   "id": "80be6a75-0342-463b-b7c2-9d985bdca5c9",
   "metadata": {},
   "outputs": [
    {
     "name": "stdout",
     "output_type": "stream",
     "text": [
      "Defaulting to user installation because normal site-packages is not writeable\n",
      "Requirement already satisfied: sympy in /home/anand/.local/lib/python3.10/site-packages (1.12)\n",
      "Requirement already satisfied: mpmath>=0.19 in /home/anand/.local/lib/python3.10/site-packages (from sympy) (1.3.0)\n"
     ]
    }
   ],
   "source": [
    "!pip install sympy"
   ]
  },
  {
   "cell_type": "code",
   "execution_count": 72,
   "id": "6e627673-1916-4f6b-9b83-2613f6ca22e0",
   "metadata": {},
   "outputs": [],
   "source": [
    "from sympy import *"
   ]
  },
  {
   "cell_type": "code",
   "execution_count": 67,
   "id": "a3b2b9ee-0a67-4b15-afad-ef947cb6669f",
   "metadata": {},
   "outputs": [],
   "source": [
    "x, y = symbols(\"x y\")"
   ]
  },
  {
   "cell_type": "code",
   "execution_count": 68,
   "id": "892d05ec-2d96-463d-a99f-9ac904a69353",
   "metadata": {},
   "outputs": [
    {
     "data": {
      "text/latex": [
       "$\\displaystyle x$"
      ],
      "text/plain": [
       "x"
      ]
     },
     "execution_count": 68,
     "metadata": {},
     "output_type": "execute_result"
    }
   ],
   "source": [
    "x"
   ]
  },
  {
   "cell_type": "code",
   "execution_count": 69,
   "id": "157477e1-b35c-4c29-b0f8-8e59c6734ff4",
   "metadata": {},
   "outputs": [
    {
     "data": {
      "text/latex": [
       "$\\displaystyle y$"
      ],
      "text/plain": [
       "y"
      ]
     },
     "execution_count": 69,
     "metadata": {},
     "output_type": "execute_result"
    }
   ],
   "source": [
    "y"
   ]
  },
  {
   "cell_type": "code",
   "execution_count": 70,
   "id": "b3239318-9aa8-418d-b5ee-18c16afa1011",
   "metadata": {},
   "outputs": [],
   "source": [
    "a = 2*x + 3* y + 2 "
   ]
  },
  {
   "cell_type": "code",
   "execution_count": 71,
   "id": "2ca7c8c0-db0b-4f44-bb3b-57b39070a974",
   "metadata": {},
   "outputs": [
    {
     "data": {
      "text/latex": [
       "$\\displaystyle 2 x + 3 y + 2$"
      ],
      "text/plain": [
       "2*x + 3*y + 2"
      ]
     },
     "execution_count": 71,
     "metadata": {},
     "output_type": "execute_result"
    }
   ],
   "source": [
    "a"
   ]
  },
  {
   "cell_type": "code",
   "execution_count": 73,
   "id": "cfa1e6df-c2c2-4cdc-a7ef-d3742e893243",
   "metadata": {},
   "outputs": [
    {
     "data": {
      "text/latex": [
       "$\\displaystyle \\cos{\\left(x \\right)}$"
      ],
      "text/plain": [
       "cos(x)"
      ]
     },
     "execution_count": 73,
     "metadata": {},
     "output_type": "execute_result"
    }
   ],
   "source": [
    "diff(sin(x))"
   ]
  },
  {
   "cell_type": "code",
   "execution_count": 75,
   "id": "d4e84968-8bfe-45a4-937e-3688590a0ca8",
   "metadata": {},
   "outputs": [],
   "source": [
    "a = diff(sin(x)*exp(x), x)"
   ]
  },
  {
   "cell_type": "code",
   "execution_count": 76,
   "id": "297fe86d-1bf9-4be2-9acf-4d10ba9d13ac",
   "metadata": {},
   "outputs": [
    {
     "data": {
      "text/latex": [
       "$\\displaystyle e^{x} \\sin{\\left(x \\right)} + e^{x} \\cos{\\left(x \\right)}$"
      ],
      "text/plain": [
       "exp(x)*sin(x) + exp(x)*cos(x)"
      ]
     },
     "execution_count": 76,
     "metadata": {},
     "output_type": "execute_result"
    }
   ],
   "source": [
    "a"
   ]
  },
  {
   "cell_type": "code",
   "execution_count": 77,
   "id": "7bc9cf50-3edd-4591-8c58-a76cdddbbb3d",
   "metadata": {},
   "outputs": [
    {
     "data": {
      "text/latex": [
       "$\\displaystyle e^{x} \\sin{\\left(x \\right)}$"
      ],
      "text/plain": [
       "exp(x)*sin(x)"
      ]
     },
     "execution_count": 77,
     "metadata": {},
     "output_type": "execute_result"
    }
   ],
   "source": [
    "integrate(a, x)"
   ]
  },
  {
   "cell_type": "code",
   "execution_count": null,
   "id": "07eea8fa-269c-4405-9c33-26512262a724",
   "metadata": {},
   "outputs": [],
   "source": []
  }
 ],
 "metadata": {
  "kernelspec": {
   "display_name": "Python 3 (ipykernel)",
   "language": "python",
   "name": "python3"
  },
  "language_info": {
   "codemirror_mode": {
    "name": "ipython",
    "version": 3
   },
   "file_extension": ".py",
   "mimetype": "text/x-python",
   "name": "python",
   "nbconvert_exporter": "python",
   "pygments_lexer": "ipython3",
   "version": "3.10.6"
  }
 },
 "nbformat": 4,
 "nbformat_minor": 5
}

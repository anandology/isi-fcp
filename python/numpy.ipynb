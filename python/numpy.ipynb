{
 "cells": [
  {
   "cell_type": "markdown",
   "id": "740be693-c050-4d67-955d-1ae441db4d1e",
   "metadata": {},
   "source": [
    "## Introduction to Numpy"
   ]
  },
  {
   "cell_type": "markdown",
   "id": "02340314-33ce-4492-b5fe-77452c65c367",
   "metadata": {},
   "source": [
    "Numpy is the numerical computing library in Python, that provides wonderful support for creating and manipulating arrays."
   ]
  },
  {
   "attachments": {},
   "cell_type": "markdown",
   "id": "a494fc71",
   "metadata": {},
   "source": [
    "You can install `numpy` if it is not already installed by running the following code:"
   ]
  },
  {
   "cell_type": "code",
   "execution_count": 2,
   "id": "7d6e21db",
   "metadata": {},
   "outputs": [
    {
     "name": "stdout",
     "output_type": "stream",
     "text": [
      "Requirement already satisfied: numpy in /home/anand/github/anandology/isi-fcp/.venv/lib/python3.12/site-packages (2.1.2)\n",
      "\n",
      "\u001b[1m[\u001b[0m\u001b[34;49mnotice\u001b[0m\u001b[1;39;49m]\u001b[0m\u001b[39;49m A new release of pip is available: \u001b[0m\u001b[31;49m24.1.2\u001b[0m\u001b[39;49m -> \u001b[0m\u001b[32;49m24.2\u001b[0m\n",
      "\u001b[1m[\u001b[0m\u001b[34;49mnotice\u001b[0m\u001b[1;39;49m]\u001b[0m\u001b[39;49m To update, run: \u001b[0m\u001b[32;49mpip install --upgrade pip\u001b[0m\n"
     ]
    }
   ],
   "source": [
    "!python3 -m pip install numpy"
   ]
  },
  {
   "cell_type": "markdown",
   "id": "06878235",
   "metadata": {},
   "source": [
    "Let's get started by importing the `numpy` module."
   ]
  },
  {
   "cell_type": "code",
   "execution_count": 4,
   "id": "e7c56c0b-d390-4d90-b94e-807a674d20ad",
   "metadata": {},
   "outputs": [],
   "source": [
    "import numpy as np"
   ]
  },
  {
   "cell_type": "code",
   "execution_count": 5,
   "id": "a2500be1",
   "metadata": {},
   "outputs": [
    {
     "data": {
      "text/plain": [
       "'2.1.2'"
      ]
     },
     "execution_count": 5,
     "metadata": {},
     "output_type": "execute_result"
    }
   ],
   "source": [
    "np.__version__"
   ]
  },
  {
   "cell_type": "markdown",
   "id": "354495bc-50fb-4b88-903f-a6bfc37bf26e",
   "metadata": {},
   "source": [
    "## Introduction to Numpy Arrays"
   ]
  },
  {
   "cell_type": "markdown",
   "id": "bd6f24cc-000b-4f16-912b-d3184c1b853e",
   "metadata": {},
   "source": [
    "Let's start with creating an array."
   ]
  },
  {
   "cell_type": "code",
   "execution_count": 4,
   "id": "3e0d0767-9541-46d0-a547-f1fed13ed76c",
   "metadata": {},
   "outputs": [],
   "source": [
    "x = np.array([1, 2, 3, 4, 5])"
   ]
  },
  {
   "cell_type": "code",
   "execution_count": 5,
   "id": "7cb4ca46-3ebb-4cf7-bcbe-b0277c00f9af",
   "metadata": {},
   "outputs": [
    {
     "data": {
      "text/plain": [
       "array([1, 2, 3, 4, 5])"
      ]
     },
     "execution_count": 5,
     "metadata": {},
     "output_type": "execute_result"
    }
   ],
   "source": [
    "x"
   ]
  },
  {
   "cell_type": "markdown",
   "id": "6e000051-6390-402e-9c89-094fd29e2d76",
   "metadata": {},
   "source": [
    "Numpy allows vector operations on arrays. These operations that work on every element of the array."
   ]
  },
  {
   "cell_type": "code",
   "execution_count": 6,
   "id": "4066e0a1-750e-423a-9fef-a078c293eae7",
   "metadata": {},
   "outputs": [
    {
     "data": {
      "text/plain": [
       "array([11, 12, 13, 14, 15])"
      ]
     },
     "execution_count": 6,
     "metadata": {},
     "output_type": "execute_result"
    }
   ],
   "source": [
    "x + 10"
   ]
  },
  {
   "cell_type": "code",
   "execution_count": 7,
   "id": "cea26770-2df2-4a4f-8abe-4b4d7cb80082",
   "metadata": {},
   "outputs": [
    {
     "data": {
      "text/plain": [
       "array([ 1,  4,  9, 16, 25])"
      ]
     },
     "execution_count": 7,
     "metadata": {},
     "output_type": "execute_result"
    }
   ],
   "source": [
    "x*x"
   ]
  },
  {
   "cell_type": "markdown",
   "id": "74f120e9-69bd-419d-b0da-19afd2294520",
   "metadata": {},
   "source": [
    "## Multi-dimentional arrays"
   ]
  },
  {
   "cell_type": "markdown",
   "id": "ec867dc3-3b42-47eb-a542-5bc6958cb241",
   "metadata": {},
   "source": [
    "Numpy supports n-dimentional arrays."
   ]
  },
  {
   "cell_type": "code",
   "execution_count": 8,
   "id": "bf3afb37-6d95-4264-ae00-8972246edd6b",
   "metadata": {},
   "outputs": [],
   "source": [
    "d = np.array([[1, 2, 3, 4], [5, 6, 7, 8]])"
   ]
  },
  {
   "cell_type": "code",
   "execution_count": 9,
   "id": "f6f72e0a-f5ac-46ff-a941-18e709c173c7",
   "metadata": {},
   "outputs": [
    {
     "data": {
      "text/plain": [
       "array([[1, 2, 3, 4],\n",
       "       [5, 6, 7, 8]])"
      ]
     },
     "execution_count": 9,
     "metadata": {},
     "output_type": "execute_result"
    }
   ],
   "source": [
    "d"
   ]
  },
  {
   "cell_type": "code",
   "execution_count": 10,
   "id": "336fd56c-d540-4f33-994e-746eb8c6dd4d",
   "metadata": {},
   "outputs": [
    {
     "data": {
      "text/plain": [
       "array([[11, 12, 13, 14],\n",
       "       [15, 16, 17, 18]])"
      ]
     },
     "execution_count": 10,
     "metadata": {},
     "output_type": "execute_result"
    }
   ],
   "source": [
    "d + 10"
   ]
  },
  {
   "cell_type": "code",
   "execution_count": 11,
   "id": "829873ca-3168-40a2-952e-45a806ab972e",
   "metadata": {},
   "outputs": [
    {
     "data": {
      "text/plain": [
       "array([[ 1,  4,  9, 16],\n",
       "       [25, 36, 49, 64]])"
      ]
     },
     "execution_count": 11,
     "metadata": {},
     "output_type": "execute_result"
    }
   ],
   "source": [
    "d*d"
   ]
  },
  {
   "cell_type": "markdown",
   "id": "26e514a0-2848-4d89-97df-8d0f95ac82b5",
   "metadata": {},
   "source": [
    "It supports many mathematical functions to work with 2-d arrays or matrices."
   ]
  },
  {
   "cell_type": "code",
   "execution_count": 12,
   "id": "e93e014e-d5d7-4183-973f-b1e2d81c0686",
   "metadata": {},
   "outputs": [
    {
     "data": {
      "text/plain": [
       "array([[1, 5],\n",
       "       [2, 6],\n",
       "       [3, 7],\n",
       "       [4, 8]])"
      ]
     },
     "execution_count": 12,
     "metadata": {},
     "output_type": "execute_result"
    }
   ],
   "source": [
    "np.transpose(d)"
   ]
  },
  {
   "cell_type": "code",
   "execution_count": 13,
   "id": "87810853-0c61-4a8b-8bd9-b6d4105a0ae5",
   "metadata": {},
   "outputs": [],
   "source": [
    "d1 = np.transpose(d)"
   ]
  },
  {
   "cell_type": "code",
   "execution_count": 14,
   "id": "4ae65474-1581-4449-a687-67570672fa0f",
   "metadata": {},
   "outputs": [
    {
     "data": {
      "text/plain": [
       "array([[ 30,  70],\n",
       "       [ 70, 174]])"
      ]
     },
     "execution_count": 14,
     "metadata": {},
     "output_type": "execute_result"
    }
   ],
   "source": [
    "np.dot(d, d1)"
   ]
  },
  {
   "cell_type": "markdown",
   "id": "10c5e34d-6b80-4283-835a-efd1dc6222c9",
   "metadata": {},
   "source": [
    "It also suppports even higher dimentional arrays, though we may not use to them in this course."
   ]
  },
  {
   "cell_type": "code",
   "execution_count": 21,
   "id": "5d0b7d11-1762-40b9-b901-0caa99021479",
   "metadata": {},
   "outputs": [
    {
     "data": {
      "text/plain": [
       "array([[[ 1,  2,  3,  4],\n",
       "        [ 5,  6,  7,  8],\n",
       "        [ 9, 10, 11, 12]],\n",
       "\n",
       "       [[13, 14, 15, 16],\n",
       "        [17, 18, 19, 20],\n",
       "        [21, 22, 23, 24]]])"
      ]
     },
     "execution_count": 21,
     "metadata": {},
     "output_type": "execute_result"
    }
   ],
   "source": [
    "d3 = np.array([\n",
    "    [[1, 2, 3, 4], [5, 6, 7, 8], [9, 10, 11, 12]],\n",
    "    [[13, 14, 15, 16], [17, 18, 19, 20], [21, 22, 23, 24]]])\n",
    "\n",
    "d3"
   ]
  },
  {
   "cell_type": "markdown",
   "id": "37b53a7b-9df8-4a66-8fdd-5fc36994f092",
   "metadata": {},
   "source": [
    "### The shape and dtype"
   ]
  },
  {
   "cell_type": "markdown",
   "id": "513f179a-bf8e-49a1-b7b8-3c77f35ab063",
   "metadata": {},
   "source": [
    "Every array has a shape showing the size of the array in each dimention and `dtype` indicating the datatype of each element in the array.\n",
    "\n",
    "Please note that all elements of an array will be of the same datatype."
   ]
  },
  {
   "cell_type": "code",
   "execution_count": 23,
   "id": "a1f9be98-4659-42e9-acb2-d3188ec349a1",
   "metadata": {},
   "outputs": [],
   "source": [
    "x = np.array([1, 2, 3, 4, 5])\n",
    "d = np.array([\n",
    "    [1, 2, 3, 4], \n",
    "    [5, 6, 7, 8]])"
   ]
  },
  {
   "cell_type": "code",
   "execution_count": 24,
   "id": "a0531b8e-ed38-41ad-bcbd-f5eb93c7a310",
   "metadata": {},
   "outputs": [
    {
     "data": {
      "text/plain": [
       "(5,)"
      ]
     },
     "execution_count": 24,
     "metadata": {},
     "output_type": "execute_result"
    }
   ],
   "source": [
    "x.shape"
   ]
  },
  {
   "cell_type": "code",
   "execution_count": 25,
   "id": "aa8534a8-fb55-42ef-93ee-181c592c951e",
   "metadata": {},
   "outputs": [
    {
     "data": {
      "text/plain": [
       "(2, 4)"
      ]
     },
     "execution_count": 25,
     "metadata": {},
     "output_type": "execute_result"
    }
   ],
   "source": [
    "d.shape"
   ]
  },
  {
   "cell_type": "markdown",
   "id": "37087ec0-b16b-48c9-baa3-d187b33f37d7",
   "metadata": {},
   "source": [
    "The array `x` is a one dimentional array and `d` is a two dimentional array. \n",
    "\n",
    "You may be surprised why `x.shape` is shown as `(5,)` instead of `(5)`. In python the parenthesis are used both for grouping and to represent tuples (kind-of read-only lists). The value of `(5)` is `5` because it is considered as grouping. It is just like `(2 + 3)`. However if we want to represent a tuple of size `1`, the only way is to include a comma to force to treat that as a tuple. "
   ]
  },
  {
   "cell_type": "code",
   "execution_count": 26,
   "id": "1607547e-ceba-4671-aed0-7824928de554",
   "metadata": {},
   "outputs": [
    {
     "data": {
      "text/plain": [
       "dtype('int64')"
      ]
     },
     "execution_count": 26,
     "metadata": {},
     "output_type": "execute_result"
    }
   ],
   "source": [
    "x.dtype"
   ]
  },
  {
   "cell_type": "markdown",
   "id": "8ce9e658-7505-4743-a38f-e40b78456cc6",
   "metadata": {},
   "source": [
    "The elements of x are are 64-bit integers. "
   ]
  },
  {
   "cell_type": "code",
   "execution_count": 27,
   "id": "d6e3bbc7-0233-431d-98ef-5046033d8af2",
   "metadata": {},
   "outputs": [],
   "source": [
    "x2 = np.array([0.1, 0.2, 0.3])"
   ]
  },
  {
   "cell_type": "code",
   "execution_count": 28,
   "id": "a4b11b75-77c9-4d79-98a6-acbc8d615e92",
   "metadata": {},
   "outputs": [
    {
     "data": {
      "text/plain": [
       "dtype('float64')"
      ]
     },
     "execution_count": 28,
     "metadata": {},
     "output_type": "execute_result"
    }
   ],
   "source": [
    "x2.dtype"
   ]
  },
  {
   "cell_type": "markdown",
   "id": "b45a53e6-48ae-4534-a3ab-5c9f40e5203a",
   "metadata": {},
   "source": [
    "When we use decimal numbers, it used a dtype of `float64`."
   ]
  },
  {
   "cell_type": "markdown",
   "id": "1d61d4ba-bfa4-4ff1-b27f-82d34f052d1e",
   "metadata": {},
   "source": [
    "## Creating Arrays"
   ]
  },
  {
   "cell_type": "markdown",
   "id": "c3fb8d1c-2cce-42ef-8d77-fddfc9def953",
   "metadata": {},
   "source": [
    "While we can create arrays by giving all the elements, like we did in the example above, it is not practical to create large arrays like that. Numpy has utilities to create arrays."
   ]
  },
  {
   "cell_type": "code",
   "execution_count": 30,
   "id": "f0457094-d136-4cd9-834c-8a8bada95681",
   "metadata": {},
   "outputs": [
    {
     "data": {
      "text/plain": [
       "array([0., 0., 0., 0., 0., 0., 0., 0., 0., 0.])"
      ]
     },
     "execution_count": 30,
     "metadata": {},
     "output_type": "execute_result"
    }
   ],
   "source": [
    "# create 10 zeros\n",
    "np.zeros(10)"
   ]
  },
  {
   "cell_type": "code",
   "execution_count": 31,
   "id": "35ec6302-ef39-4cdb-8d5a-ef34bcd71e42",
   "metadata": {},
   "outputs": [
    {
     "data": {
      "text/plain": [
       "array([1., 1., 1., 1., 1., 1., 1., 1., 1., 1.])"
      ]
     },
     "execution_count": 31,
     "metadata": {},
     "output_type": "execute_result"
    }
   ],
   "source": [
    "# create 10 ones\n",
    "np.ones(10)"
   ]
  },
  {
   "cell_type": "code",
   "execution_count": 32,
   "id": "c31ed1ed-baca-4a45-8a2a-22fb199e84f5",
   "metadata": {},
   "outputs": [
    {
     "data": {
      "text/plain": [
       "array([0. , 0.1, 0.2, 0.3, 0.4, 0.5, 0.6, 0.7, 0.8, 0.9])"
      ]
     },
     "execution_count": 32,
     "metadata": {},
     "output_type": "execute_result"
    }
   ],
   "source": [
    "# range of numbers from 0 to 1 in steps of 0.1\n",
    "# please note that the end is not included\n",
    "np.arange(0, 1, 0.1)"
   ]
  },
  {
   "cell_type": "markdown",
   "id": "f885ba1d-0fef-4ded-90ae-588355c07907",
   "metadata": {},
   "source": [
    "The `linspace` function takes the `begin` and `end` and divides that into a number of points. Unlike `arange`, the result of `linspace` includes the `end`."
   ]
  },
  {
   "cell_type": "code",
   "execution_count": 33,
   "id": "0b1442aa-910a-4a32-88d9-6ec85f721cfe",
   "metadata": {},
   "outputs": [
    {
     "data": {
      "text/plain": [
       "array([0. , 0.1, 0.2, 0.3, 0.4, 0.5, 0.6, 0.7, 0.8, 0.9, 1. ])"
      ]
     },
     "execution_count": 33,
     "metadata": {},
     "output_type": "execute_result"
    }
   ],
   "source": [
    "np.linspace(0, 1, 11)"
   ]
  },
  {
   "cell_type": "code",
   "execution_count": 34,
   "id": "4057fa76-a402-4f99-a8b5-4b4c63ad59e8",
   "metadata": {},
   "outputs": [
    {
     "data": {
      "text/plain": [
       "array([0.  , 0.25, 0.5 , 0.75, 1.  ])"
      ]
     },
     "execution_count": 34,
     "metadata": {},
     "output_type": "execute_result"
    }
   ],
   "source": [
    "np.linspace(0, 1, 5)"
   ]
  },
  {
   "cell_type": "markdown",
   "id": "dc989459-35ad-43a2-bc48-b6754e3be1e9",
   "metadata": {},
   "source": [
    "## Utilties"
   ]
  },
  {
   "cell_type": "markdown",
   "id": "fff445f8-44b7-43a3-b964-5e5dbe6be300",
   "metadata": {},
   "source": [
    "Numpy has many utilties and mathematical functions."
   ]
  },
  {
   "cell_type": "code",
   "execution_count": 35,
   "id": "cb88d9ca-a676-48cd-948c-df74ba5b44f5",
   "metadata": {},
   "outputs": [
    {
     "data": {
      "text/plain": [
       "3.141592653589793"
      ]
     },
     "execution_count": 35,
     "metadata": {},
     "output_type": "execute_result"
    }
   ],
   "source": [
    "np.pi"
   ]
  },
  {
   "cell_type": "code",
   "execution_count": 39,
   "id": "d1bbf055-b94e-42da-8ff3-bcf7713952e2",
   "metadata": {},
   "outputs": [
    {
     "data": {
      "text/plain": [
       "1.5707963267948966"
      ]
     },
     "execution_count": 39,
     "metadata": {},
     "output_type": "execute_result"
    }
   ],
   "source": [
    "# convert degrees to radians\n",
    "np.radians(90)"
   ]
  },
  {
   "cell_type": "code",
   "execution_count": 40,
   "id": "95062a8a-c53f-4630-b860-0b3ce4075582",
   "metadata": {},
   "outputs": [],
   "source": [
    "angles = np.linspace(0, 360, 13)"
   ]
  },
  {
   "cell_type": "code",
   "execution_count": 41,
   "id": "bd40abfc-c07f-4975-a5f7-50aa03466897",
   "metadata": {},
   "outputs": [
    {
     "data": {
      "text/plain": [
       "array([  0.,  30.,  60.,  90., 120., 150., 180., 210., 240., 270., 300.,\n",
       "       330., 360.])"
      ]
     },
     "execution_count": 41,
     "metadata": {},
     "output_type": "execute_result"
    }
   ],
   "source": [
    "angles"
   ]
  },
  {
   "cell_type": "code",
   "execution_count": 42,
   "id": "5e4ec4a6-6980-4e49-b317-17129093c159",
   "metadata": {},
   "outputs": [],
   "source": [
    "angles_in_radians = np.radians(angles)"
   ]
  },
  {
   "cell_type": "code",
   "execution_count": 43,
   "id": "960e6cf9-bc79-4138-b2ed-e8abf1fde6e2",
   "metadata": {},
   "outputs": [
    {
     "data": {
      "text/plain": [
       "array([0.        , 0.52359878, 1.04719755, 1.57079633, 2.0943951 ,\n",
       "       2.61799388, 3.14159265, 3.66519143, 4.1887902 , 4.71238898,\n",
       "       5.23598776, 5.75958653, 6.28318531])"
      ]
     },
     "execution_count": 43,
     "metadata": {},
     "output_type": "execute_result"
    }
   ],
   "source": [
    "angles_in_radians"
   ]
  },
  {
   "cell_type": "code",
   "execution_count": 46,
   "id": "5a672cf8-804e-4864-b474-ca70a184b8a5",
   "metadata": {},
   "outputs": [
    {
     "data": {
      "text/plain": [
       "array([0.        , 0.52359878, 1.04719755, 1.57079633, 2.0943951 ,\n",
       "       2.61799388, 3.14159265, 3.66519143, 4.1887902 , 4.71238898,\n",
       "       5.23598776, 5.75958653, 6.28318531])"
      ]
     },
     "execution_count": 46,
     "metadata": {},
     "output_type": "execute_result"
    }
   ],
   "source": [
    "# we can also create the angles in radians\n",
    "np.linspace(0, 2*np.pi, 13)"
   ]
  },
  {
   "cell_type": "markdown",
   "id": "e948f9f0-9fb7-4064-9c10-11ae1ae4e5df",
   "metadata": {},
   "source": [
    "Numpy support trigonometric functions as well."
   ]
  },
  {
   "cell_type": "code",
   "execution_count": 47,
   "id": "73f4d501-ca12-4a9e-b98c-ef4885be716c",
   "metadata": {},
   "outputs": [
    {
     "data": {
      "text/plain": [
       "array([ 0.00000000e+00,  5.00000000e-01,  8.66025404e-01,  1.00000000e+00,\n",
       "        8.66025404e-01,  5.00000000e-01,  1.22464680e-16, -5.00000000e-01,\n",
       "       -8.66025404e-01, -1.00000000e+00, -8.66025404e-01, -5.00000000e-01,\n",
       "       -2.44929360e-16])"
      ]
     },
     "execution_count": 47,
     "metadata": {},
     "output_type": "execute_result"
    }
   ],
   "source": [
    "np.sin(angles_in_radians)"
   ]
  },
  {
   "cell_type": "code",
   "execution_count": 48,
   "id": "7db0ebc3-4ccc-4ad9-8a0f-217dd13f06ac",
   "metadata": {},
   "outputs": [
    {
     "data": {
      "text/plain": [
       "array([ 1.00000000e+00,  8.66025404e-01,  5.00000000e-01,  6.12323400e-17,\n",
       "       -5.00000000e-01, -8.66025404e-01, -1.00000000e+00, -8.66025404e-01,\n",
       "       -5.00000000e-01, -1.83697020e-16,  5.00000000e-01,  8.66025404e-01,\n",
       "        1.00000000e+00])"
      ]
     },
     "execution_count": 48,
     "metadata": {},
     "output_type": "execute_result"
    }
   ],
   "source": [
    "np.cos(angles_in_radians)"
   ]
  },
  {
   "cell_type": "markdown",
   "id": "5e3be7b7-603c-4b2b-be9c-f6a66903c3d3",
   "metadata": {},
   "source": [
    "The common mathematical functions like `sqrt` and `abs` are available too."
   ]
  },
  {
   "cell_type": "code",
   "execution_count": 51,
   "id": "e4ab0d5f-8a2b-4fb6-9401-4f882c3198ec",
   "metadata": {},
   "outputs": [],
   "source": [
    "x = np.arange(10)"
   ]
  },
  {
   "cell_type": "code",
   "execution_count": 52,
   "id": "f1257f95-7ccb-477d-a75f-e2dbb8c7524a",
   "metadata": {},
   "outputs": [
    {
     "data": {
      "text/plain": [
       "array([0, 1, 2, 3, 4, 5, 6, 7, 8, 9])"
      ]
     },
     "execution_count": 52,
     "metadata": {},
     "output_type": "execute_result"
    }
   ],
   "source": [
    "x"
   ]
  },
  {
   "cell_type": "code",
   "execution_count": 54,
   "id": "d2992192-77d9-48f0-9a48-82fe4f07e001",
   "metadata": {},
   "outputs": [
    {
     "data": {
      "text/plain": [
       "array([0.        , 1.        , 1.41421356, 1.73205081, 2.        ,\n",
       "       2.23606798, 2.44948974, 2.64575131, 2.82842712, 3.        ])"
      ]
     },
     "execution_count": 54,
     "metadata": {},
     "output_type": "execute_result"
    }
   ],
   "source": [
    "np.sqrt(x)"
   ]
  },
  {
   "cell_type": "code",
   "execution_count": 55,
   "id": "a7c1543f-1a5b-4357-88a3-e0c9432f1bce",
   "metadata": {},
   "outputs": [
    {
     "data": {
      "text/plain": [
       "array([-5, -4, -3, -2, -1,  0,  1,  2,  3,  4])"
      ]
     },
     "execution_count": 55,
     "metadata": {},
     "output_type": "execute_result"
    }
   ],
   "source": [
    "x-5"
   ]
  },
  {
   "cell_type": "code",
   "execution_count": 59,
   "id": "ba9214af-ad0d-47a8-9a95-d16004df1298",
   "metadata": {},
   "outputs": [
    {
     "data": {
      "text/plain": [
       "array([5, 4, 3, 2, 1, 0, 1, 2, 3, 4])"
      ]
     },
     "execution_count": 59,
     "metadata": {},
     "output_type": "execute_result"
    }
   ],
   "source": [
    "x1 = np.abs(x-5)\n",
    "x1"
   ]
  },
  {
   "cell_type": "code",
   "execution_count": 60,
   "id": "0cba6b04-669e-4044-aa8a-a913e4a28d5f",
   "metadata": {},
   "outputs": [
    {
     "data": {
      "text/plain": [
       "25"
      ]
     },
     "execution_count": 60,
     "metadata": {},
     "output_type": "execute_result"
    }
   ],
   "source": [
    "np.sum(x1)"
   ]
  },
  {
   "cell_type": "markdown",
   "id": "ed5b7a82-8a69-4fa3-bd08-d2c5cbb07f91",
   "metadata": {},
   "source": [
    "### Example: Euclidean Distance"
   ]
  },
  {
   "cell_type": "markdown",
   "id": "29c08c7d-c705-4ee0-8191-f3efbeda72d5",
   "metadata": {},
   "source": [
    "Euclidian distance between two vectors is defines as:\n",
    "    \n",
    "$E(p, q) = \\sqrt{\\sum_{i=1}^{n}{(p_i-q_i)^2}}$\n",
    "\n",
    "Write a function euclidian_distance to compute the euclidian distance between two vectors specified as numpy arrays."
   ]
  },
  {
   "cell_type": "code",
   "execution_count": 61,
   "id": "c860671e-068e-4443-aec8-13d8ec971f24",
   "metadata": {},
   "outputs": [],
   "source": [
    "def eucliean_distance(p, q):\n",
    "    d = p-q\n",
    "    total = np.sum(d*d)\n",
    "    return np.sqrt(total)"
   ]
  },
  {
   "cell_type": "code",
   "execution_count": 62,
   "id": "59cfd89b-34ce-4adf-a3b9-f30ee75b901d",
   "metadata": {},
   "outputs": [],
   "source": [
    "p = np.array([1.0, 2.0, 3.0])\n",
    "q = np.array([4.0, 5.0, 6.0])"
   ]
  },
  {
   "cell_type": "code",
   "execution_count": 63,
   "id": "283cac1e-1389-4a82-8652-15f6ce678241",
   "metadata": {},
   "outputs": [
    {
     "data": {
      "text/plain": [
       "5.196152422706632"
      ]
     },
     "execution_count": 63,
     "metadata": {},
     "output_type": "execute_result"
    }
   ],
   "source": [
    "eucliean_distance(p, q)"
   ]
  },
  {
   "cell_type": "markdown",
   "id": "4557dbfa-bab8-4266-9185-c09a0192f8e7",
   "metadata": {},
   "source": [
    "You can verify that step-by-step."
   ]
  },
  {
   "cell_type": "code",
   "execution_count": 65,
   "id": "f41abbb9-3da6-4e45-aac3-0854b9e2943a",
   "metadata": {},
   "outputs": [
    {
     "data": {
      "text/plain": [
       "array([-3., -3., -3.])"
      ]
     },
     "execution_count": 65,
     "metadata": {},
     "output_type": "execute_result"
    }
   ],
   "source": [
    "d = p-q\n",
    "d"
   ]
  },
  {
   "cell_type": "code",
   "execution_count": 66,
   "id": "ce00da5e-9cd2-46aa-996d-1fbe57af82fb",
   "metadata": {},
   "outputs": [
    {
     "data": {
      "text/plain": [
       "array([9., 9., 9.])"
      ]
     },
     "execution_count": 66,
     "metadata": {},
     "output_type": "execute_result"
    }
   ],
   "source": [
    "d*d"
   ]
  },
  {
   "cell_type": "code",
   "execution_count": 68,
   "id": "e3f0d6db-b4d2-4745-9c1f-bb6f62760659",
   "metadata": {},
   "outputs": [
    {
     "data": {
      "text/plain": [
       "27.0"
      ]
     },
     "execution_count": 68,
     "metadata": {},
     "output_type": "execute_result"
    }
   ],
   "source": [
    "total = np.sum(d*d)\n",
    "total"
   ]
  },
  {
   "cell_type": "code",
   "execution_count": 69,
   "id": "34b4f4f3-5b87-4ec7-a689-4e9948501582",
   "metadata": {},
   "outputs": [
    {
     "data": {
      "text/plain": [
       "5.196152422706632"
      ]
     },
     "execution_count": 69,
     "metadata": {},
     "output_type": "execute_result"
    }
   ],
   "source": [
    "np.sqrt(total)"
   ]
  },
  {
   "cell_type": "markdown",
   "id": "679bebf5-3604-4a85-8cf3-9568fbc16d6a",
   "metadata": {},
   "source": [
    "### Problem: Manhattan Distance"
   ]
  },
  {
   "cell_type": "markdown",
   "id": "9540a639-0b30-4c03-ba5b-56b312268364",
   "metadata": {},
   "source": [
    "\n",
    "Write a function `manhattan_distance` to compute the manhattan distance between two vectors.\n",
    "\n",
    "The manhattan distance is defined as:\n",
    "\n",
    "$M(p, q) = \\sum_{i=1}^{n}{| p_i - q_i |}$\n",
    "\n",
    "For more info see: https://en.wikipedia.org/wiki/Taxicab_geometry\n",
    "\n",
    "```\n",
    ">>> manhanttan_distance(np.array([0,0]), np.array([3, 4]))\n",
    "7\n",
    "```"
   ]
  },
  {
   "cell_type": "code",
   "execution_count": null,
   "id": "0bd6dc06-b0ec-4aec-b9ac-6585cf408d04",
   "metadata": {},
   "outputs": [],
   "source": []
  },
  {
   "cell_type": "code",
   "execution_count": null,
   "id": "85ebc12f-f7ae-48e0-875a-13644a089c07",
   "metadata": {},
   "outputs": [],
   "source": []
  },
  {
   "cell_type": "code",
   "execution_count": null,
   "id": "25acd5a8-2402-4c36-8993-2ce94af0ee4d",
   "metadata": {},
   "outputs": [],
   "source": []
  },
  {
   "cell_type": "code",
   "execution_count": null,
   "id": "fe6b9e96-5cec-47c7-90a3-ddff580f9d21",
   "metadata": {},
   "outputs": [],
   "source": []
  }
 ],
 "metadata": {
  "kernelspec": {
   "display_name": "Python 3 (ipykernel)",
   "language": "python",
   "name": "python3"
  },
  "language_info": {
   "codemirror_mode": {
    "name": "ipython",
    "version": 3
   },
   "file_extension": ".py",
   "mimetype": "text/x-python",
   "name": "python",
   "nbconvert_exporter": "python",
   "pygments_lexer": "ipython3",
   "version": "3.12.3"
  }
 },
 "nbformat": 4,
 "nbformat_minor": 5
}
